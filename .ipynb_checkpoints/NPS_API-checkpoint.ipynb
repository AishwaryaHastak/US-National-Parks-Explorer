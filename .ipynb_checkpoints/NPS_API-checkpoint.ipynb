{
 "cells": [
  {
   "cell_type": "code",
   "execution_count": 1,
   "id": "0bb41b56-5e88-4c7c-a6b9-cfb801026c6b",
   "metadata": {},
   "outputs": [
    {
     "name": "stdout",
     "output_type": "stream",
     "text": [
      "Requirement already satisfied: requests in /Library/Frameworks/Python.framework/Versions/3.11/lib/python3.11/site-packages (2.32.3)\n",
      "Requirement already satisfied: pandas in /Library/Frameworks/Python.framework/Versions/3.11/lib/python3.11/site-packages (2.2.1)\n",
      "Requirement already satisfied: charset-normalizer<4,>=2 in /Library/Frameworks/Python.framework/Versions/3.11/lib/python3.11/site-packages (from requests) (3.3.2)\n",
      "Requirement already satisfied: idna<4,>=2.5 in /Library/Frameworks/Python.framework/Versions/3.11/lib/python3.11/site-packages (from requests) (3.6)\n",
      "Requirement already satisfied: urllib3<3,>=1.21.1 in /Library/Frameworks/Python.framework/Versions/3.11/lib/python3.11/site-packages (from requests) (2.2.2)\n",
      "Requirement already satisfied: certifi>=2017.4.17 in /Library/Frameworks/Python.framework/Versions/3.11/lib/python3.11/site-packages (from requests) (2022.12.7)\n",
      "Requirement already satisfied: numpy<2,>=1.23.2 in /Library/Frameworks/Python.framework/Versions/3.11/lib/python3.11/site-packages (from pandas) (1.26.4)\n",
      "Requirement already satisfied: python-dateutil>=2.8.2 in /Library/Frameworks/Python.framework/Versions/3.11/lib/python3.11/site-packages (from pandas) (2.9.0.post0)\n",
      "Requirement already satisfied: pytz>=2020.1 in /Library/Frameworks/Python.framework/Versions/3.11/lib/python3.11/site-packages (from pandas) (2023.3)\n",
      "Requirement already satisfied: tzdata>=2022.7 in /Library/Frameworks/Python.framework/Versions/3.11/lib/python3.11/site-packages (from pandas) (2024.1)\n",
      "Requirement already satisfied: six>=1.5 in /Library/Frameworks/Python.framework/Versions/3.11/lib/python3.11/site-packages (from python-dateutil>=2.8.2->pandas) (1.16.0)\n",
      "\n",
      "\u001b[1m[\u001b[0m\u001b[34;49mnotice\u001b[0m\u001b[1;39;49m]\u001b[0m\u001b[39;49m A new release of pip is available: \u001b[0m\u001b[31;49m23.2.1\u001b[0m\u001b[39;49m -> \u001b[0m\u001b[32;49m24.2\u001b[0m\n",
      "\u001b[1m[\u001b[0m\u001b[34;49mnotice\u001b[0m\u001b[1;39;49m]\u001b[0m\u001b[39;49m To update, run: \u001b[0m\u001b[32;49mpip3 install --upgrade pip\u001b[0m\n",
      "Note: you may need to restart the kernel to use updated packages.\n"
     ]
    }
   ],
   "source": [
    "pip install requests pandas"
   ]
  },
  {
   "cell_type": "code",
   "execution_count": 6,
   "id": "71147a67-5d83-4842-bfed-0e19afbcc441",
   "metadata": {},
   "outputs": [],
   "source": [
    "national_parks_list = [\n",
    "\"Acadia National Park\",\n",
    "\"Arches National Park\",\n",
    "\"Badlands National Park\",\n",
    "\"Big Bend National Park\",\n",
    "\"Biscayne National Park\",\n",
    "\"Black Canyon Of The Gunnison National Park\",\n",
    "\"Bryce Canyon National Park\",\n",
    "\"Canyonlands National Park\",\n",
    "\"Capitol Reef National Park\",\n",
    "\"Carlsbad Caverns National Park\",\n",
    "\"Channel Islands National Park\",\n",
    "\"Congaree National Park\",\n",
    "\"Crater Lake National Park\",\n",
    "\"Cuyahoga Valley National Park\",\n",
    "\"Death Valley National Park\",\n",
    "\"Denali National Park & Preserve\",\n",
    "\"Dry Tortugas National Park\",\n",
    "\"Everglades National Park\",\n",
    "\"Gates Of The Arctic National Park & Preserve\",\n",
    "\"Gateway Arch National Park\",\n",
    "\"Glacier Bay National Park & Preserve\",\n",
    "\"Glacier National Park\",\n",
    "\"Grand Canyon National Park\",\n",
    "\"Grand Teton National Park\",\n",
    "\"Great Basin National Park\",\n",
    "\"Great Sand Dunes National Park & Preserve\",\n",
    "\"Great Smoky Mountains National Park\",\n",
    "\"Guadalupe Mountains National Park\",\n",
    "\"Haleakalā National Park\",\n",
    "\"Hawaiʻi Volcanoes National Park\",\n",
    "\"Hot Springs National Park\",\n",
    "\"Indiana Dunes National Park\",\n",
    "\"Isle Royale National Park\",\n",
    "\"Joshua Tree National Park\",\n",
    "\"Katmai National Park & Preserve\",\n",
    "\"Kenai Fjords National Park\",\n",
    "\"Kobuk Valley National Park\",\n",
    "\"Lake Clark National Park & Preserve\",\n",
    "\"Lassen Volcanic National Park\",\n",
    "\"Mammoth Cave National Park\",\n",
    "\"Mesa Verde National Park\",\n",
    "\"Mount Rainier National Park\",\n",
    "\"National Park of American Samoa\",\n",
    "\"New River Gorge National Park & Preserve\",\n",
    "\"North Cascades National Park\",\n",
    "\"Olympic National Park\",\n",
    "\"Petrified Forest National Park\",\n",
    "\"Pinnacles National Park\",\n",
    "\"Redwood National and State Parks\",\n",
    "\"Rocky Mountain National Park\",\n",
    "\"Saguaro National Park\",\n",
    "\"Sequoia & Kings Canyon National Parks\",\n",
    "\"Shenandoah National Park\",\n",
    "\"Theodore Roosevelt National Park\",\n",
    "\"Virgin Islands National Park\",\n",
    "\"Voyageurs National Park\",\n",
    "\"White Sands National Park\",\n",
    "\"Wind Cave National Park\",\n",
    "\"Wrangell - St Elias National Park & Preserve\",\n",
    "\"Yellowstone National Park\",\n",
    "\"Yosemite National Park\",\n",
    "\"Zion National Park\"\n",
    "]\n",
    "# Sequoia & Kings Canyon National Parks refers to two adjacent national parks located in California. \n",
    "# They were originally established separately – Sequoia National Park on September 25, 1940, and Kings Canyon National Park on March 4, 1940. \n",
    "#However, they were combined into a single administrative unit on October 1, 1965."
   ]
  },
  {
   "cell_type": "code",
   "execution_count": 2,
   "id": "e04004c9-0611-4d28-8d71-e4e6b342e6b5",
   "metadata": {},
   "outputs": [
    {
     "name": "stdin",
     "output_type": "stream",
     "text": [
      "Enter your NPS API key:  ········\n"
     ]
    }
   ],
   "source": [
    "from getpass import getpass\n",
    "\n",
    "NPS_API_KEY = getpass(prompt=\"Enter your NPS API key: \")\n"
   ]
  },
  {
   "cell_type": "code",
   "execution_count": 156,
   "id": "8846dbed-e608-4515-89cd-457868a239b7",
   "metadata": {},
   "outputs": [
    {
     "name": "stdout",
     "output_type": "stream",
     "text": [
      "Data saved to all_parks_data.json\n"
     ]
    }
   ],
   "source": [
    "import requests\n",
    "import json\n",
    "BASE_URL = 'https://developer.nps.gov/api/v1'\n",
    "\n",
    "def get_all_parks(api_key):\n",
    "    url = f'{BASE_URL}/parks'\n",
    "    parks = []\n",
    "    start = 0\n",
    "    limit = 50  # Adjust the limit as needed\n",
    "\n",
    "    while True:\n",
    "        params = {\n",
    "            'api_key': api_key,\n",
    "            'limit': limit,\n",
    "            'start': start\n",
    "        }\n",
    "        response = requests.get(url, params=params)\n",
    "        data = response.json()\n",
    "        \n",
    "        # Add the data to the list\n",
    "        parks.extend(data['data'])\n",
    "\n",
    "        # Check if we have received all the records\n",
    "        if len(data['data']) < limit:\n",
    "            break\n",
    "        \n",
    "        # Move to the next page\n",
    "        start += limit\n",
    "\n",
    "\n",
    "    return parks\n",
    "\n",
    "all_parks_data = get_all_parks(NPS_API_KEY)\n",
    "with open('all_parks_data.json', 'w') as json_file:\n",
    "    json.dump(all_parks_data, json_file, indent=4)\n",
    "\n",
    "print(\"Data saved to all_parks_data.json\")"
   ]
  },
  {
   "cell_type": "code",
   "execution_count": 157,
   "id": "3aa0999b-da96-463e-82a2-373540fc1be4",
   "metadata": {},
   "outputs": [
    {
     "data": {
      "text/plain": [
       "472"
      ]
     },
     "execution_count": 157,
     "metadata": {},
     "output_type": "execute_result"
    }
   ],
   "source": [
    "len(all_parks_data)"
   ]
  },
  {
   "cell_type": "code",
   "execution_count": 158,
   "id": "8a7ba1e1-e175-434f-b361-f37cfc4596ed",
   "metadata": {},
   "outputs": [],
   "source": [
    "all_parks_names = [park['fullName'] for park in all_parks_data]"
   ]
  },
  {
   "cell_type": "code",
   "execution_count": 159,
   "id": "4b3b1f38-8687-4adf-a4b7-f058ef5e9747",
   "metadata": {},
   "outputs": [
    {
     "data": {
      "text/plain": [
       "62"
      ]
     },
     "execution_count": 159,
     "metadata": {},
     "output_type": "execute_result"
    }
   ],
   "source": [
    "len(national_parks_list)"
   ]
  },
  {
   "cell_type": "code",
   "execution_count": 160,
   "id": "e5063d89-cc12-44dd-b94c-b5825bf1737e",
   "metadata": {},
   "outputs": [],
   "source": [
    "def filter_national_parks(parks, park_names):\n",
    "    return [park for park in parks if park['fullName'] in park_names]\n",
    "\n",
    "national_parks_data = filter_national_parks(all_parks_data, national_parks_list)\n"
   ]
  },
  {
   "cell_type": "code",
   "execution_count": 161,
   "id": "a1e8b594-a0c8-4dd8-915b-72f5c2ba14fb",
   "metadata": {},
   "outputs": [
    {
     "data": {
      "text/plain": [
       "62"
      ]
     },
     "execution_count": 161,
     "metadata": {},
     "output_type": "execute_result"
    }
   ],
   "source": [
    "len(national_parks_data)"
   ]
  },
  {
   "cell_type": "code",
   "execution_count": 162,
   "id": "bdb049fd-000e-4907-85d6-4bf0ab118530",
   "metadata": {},
   "outputs": [
    {
     "name": "stdout",
     "output_type": "stream",
     "text": [
      "Data saved to raw_national_parks_data.json\n"
     ]
    }
   ],
   "source": [
    "national_parks_data\n",
    "with open('raw_national_parks_data.json', 'w') as json_file:\n",
    "    json.dump(national_parks_data, json_file, indent=4)\n",
    "\n",
    "print(\"Data saved to raw_national_parks_data.json\")"
   ]
  },
  {
   "cell_type": "code",
   "execution_count": 2,
   "id": "5b6bcba9-93e0-4ee0-987b-294e3be43914",
   "metadata": {},
   "outputs": [],
   "source": [
    "import json"
   ]
  },
  {
   "cell_type": "code",
   "execution_count": 36,
   "id": "1623e391-a273-4226-9191-1ba488601031",
   "metadata": {},
   "outputs": [],
   "source": [
    "with open('raw_national_parks_data.json', 'r') as json_file:\n",
    "    national_parks_data = json.load(json_file)"
   ]
  },
  {
   "cell_type": "code",
   "execution_count": 37,
   "id": "14a32c07-5d3c-420b-845e-3c83265f131b",
   "metadata": {},
   "outputs": [],
   "source": [
    "national_parks_names = [park['fullName'] for park in national_parks_data]"
   ]
  },
  {
   "cell_type": "code",
   "execution_count": 38,
   "id": "b50bcba4-f3cb-4043-a627-48aaab2fce47",
   "metadata": {},
   "outputs": [
    {
     "name": "stdout",
     "output_type": "stream",
     "text": [
      "Missing parks from the filtered list:\n"
     ]
    }
   ],
   "source": [
    "# To check any national park is missing\n",
    "set_original_parks = set(national_parks_list)\n",
    "set_filtered_parks = set(national_parks_names)\n",
    "\n",
    "# Find missing parks\n",
    "missing_parks = set_original_parks - set_filtered_parks\n",
    "\n",
    "# Display missing parks\n",
    "print(\"Missing parks from the filtered list:\")\n",
    "for park in missing_parks:\n",
    "    print(park)"
   ]
  },
  {
   "cell_type": "code",
   "execution_count": 39,
   "id": "46ba06d9-7391-4811-a8b2-758f4c2d2d57",
   "metadata": {},
   "outputs": [],
   "source": [
    "# no need of multimedia, name, designation, fees\n",
    "def remove_unwanted_fields(parks):\n",
    "    fields_to_remove = [\"multimedia\", \"name\", \"designation\", \"fees\"]\n",
    "    for park in parks:\n",
    "        for field in fields_to_remove:\n",
    "            if field in park:\n",
    "                del park[field]\n",
    "    return parks\n",
    "\n",
    "# Remove the fields and print the result\n",
    "cleaned_parks_data = remove_unwanted_fields(national_parks_data)\n"
   ]
  },
  {
   "cell_type": "code",
   "execution_count": 40,
   "id": "3e699b33-de2f-467d-8753-627f69390ef7",
   "metadata": {},
   "outputs": [],
   "source": [
    "##converted activities and topics into a list\n",
    "def process_parks_data(parks):\n",
    "    for park in parks:\n",
    "        # Safeguard: Ensure 'activities' is a list of dictionaries\n",
    "        if 'activities' in park and isinstance(park['activities'], list):\n",
    "            park['activities'] = [\n",
    "                activity['name'] for activity in park['activities'] \n",
    "                if isinstance(activity, dict) and 'name' in activity\n",
    "            ]\n",
    "        \n",
    "        # Safeguard: Ensure 'topics' is a list of dictionaries\n",
    "        if 'topics' in park and isinstance(park['topics'], list):\n",
    "            park['topics'] = [\n",
    "                topic['name'] for topic in park['topics'] \n",
    "                if isinstance(topic, dict) and 'name' in topic\n",
    "            ]\n",
    "    \n",
    "    return parks\n",
    "\n",
    "# Example usage with cleaned_parks_data\n",
    "processed_parks_data = process_parks_data(cleaned_parks_data)\n"
   ]
  },
  {
   "cell_type": "code",
   "execution_count": 41,
   "id": "50f288b0-40f7-4a3c-8e86-ee289b5c7521",
   "metadata": {},
   "outputs": [],
   "source": [
    "#processed the contacts \n",
    "def process_contacts(parks):\n",
    "    for park in parks:\n",
    "        # Initialize default values\n",
    "        phone_number = None\n",
    "        email_address = None\n",
    "        \n",
    "        # Check for 'contacts' key in the park dictionary\n",
    "        if 'contacts' in park:\n",
    "            contacts = park['contacts']\n",
    "            \n",
    "            # Extract phone number with type 'Voice'\n",
    "            if 'phoneNumbers' in contacts:\n",
    "                for phone in contacts['phoneNumbers']:\n",
    "                    if phone.get('type') == 'Voice':\n",
    "                        phone_number = phone.get('phoneNumber')\n",
    "                        break\n",
    "            \n",
    "            # Extract email address\n",
    "            if 'emailAddresses' in contacts:\n",
    "                email_address = contacts['emailAddresses'][0].get('emailAddress') if contacts['emailAddresses'] else None\n",
    "            \n",
    "            # Update the 'contacts' field\n",
    "            park['contacts'] = {\n",
    "                'phoneNumber': phone_number,\n",
    "                'emailAddress': email_address\n",
    "            }\n",
    "    \n",
    "    return parks\n",
    "\n",
    "processed_parks_data = process_contacts(processed_parks_data)\n"
   ]
  },
  {
   "cell_type": "code",
   "execution_count": 42,
   "id": "c437e466-5fe9-4244-9b9b-9b315096579a",
   "metadata": {},
   "outputs": [],
   "source": [
    "def processing_address_hours(parks):\n",
    "    for park in parks:\n",
    "        # Remove 'exceptions' from 'operatingHours'\n",
    "        if 'operatingHours' in park:\n",
    "            for hours in park['operatingHours']:\n",
    "                if 'exceptions' in hours:\n",
    "                    del hours['exceptions']\n",
    "        \n",
    "        # Remove the mailing address from 'addresses'\n",
    "        if 'addresses' in park:\n",
    "            park['addresses'] = [address for address in park['addresses'] if address.get('type') != 'Mailing']\n",
    "        \n",
    "        # Remove 'relevanceScore'\n",
    "        if 'relevanceScore' in park:\n",
    "            del park['relevanceScore']\n",
    "    \n",
    "    return parks\n",
    "\n",
    "processed_parks_data = processing_address_hours(processed_parks_data)\n"
   ]
  },
  {
   "cell_type": "code",
   "execution_count": 43,
   "id": "010dab83-9f4c-4eb2-8cb8-8383ab2d7ef9",
   "metadata": {},
   "outputs": [],
   "source": [
    "def simplify_images(parks):\n",
    "    for park in parks:\n",
    "        # Simplify the 'images' field\n",
    "        if 'images' in park:\n",
    "            park['images'] = [{'title': image.get('title'), 'url': image.get('url')} for image in park['images']]\n",
    "    \n",
    "    return parks\n",
    "\n",
    "simplified_parks_data = simplify_images(processed_parks_data)\n"
   ]
  },
  {
   "cell_type": "code",
   "execution_count": 44,
   "id": "2d9a6239-c927-4d67-bbfc-a27371b01ff0",
   "metadata": {},
   "outputs": [],
   "source": [
    "def remove_unwanted_fields(parks):\n",
    "    fields_to_remove = [\"latitude\", \"longitude\", \"latLong\", \"entranceFees\", \"entrancePasses\"]\n",
    "    for park in parks:\n",
    "        for field in fields_to_remove:\n",
    "            if field in park:\n",
    "                del park[field]\n",
    "        \n",
    "    return parks\n",
    "\n",
    "simplified_parks_data = remove_unwanted_fields(simplified_parks_data)\n"
   ]
  },
  {
   "cell_type": "code",
   "execution_count": 46,
   "id": "37d3e3ff-52b2-486b-af70-ad4f62702326",
   "metadata": {},
   "outputs": [],
   "source": [
    "def format_address(address):\n",
    "    # Extract non-empty values from the address dictionary\n",
    "    parts = [address.get('line1', ''), \n",
    "             address.get('line2', ''), \n",
    "             address.get('line3', ''), \n",
    "             address.get('city', ''), \n",
    "             address.get('stateCode', ''), \n",
    "             address.get('countryCode', '')]\n",
    "\n",
    "    # Filter out empty strings and join the remaining parts with commas\n",
    "    formatted_address = ', '.join([part for part in parts if part])\n",
    "\n",
    "    return formatted_address\n",
    "\n",
    "def formating_addresses(parks):    \n",
    "    for park in parks:\n",
    "        # Format addresses if present\n",
    "        if 'addresses' in park and isinstance(park['addresses'], list):\n",
    "            # Combine all formatted addresses into a single string\n",
    "            formatted_addresses = ', '.join([format_address(address) for address in park['addresses']])\n",
    "            # Set addresses as a single string\n",
    "            park['addresses'] = formatted_addresses\n",
    "    \n",
    "    return parks\n",
    "\n",
    "# Call the function on your dataset\n",
    "simplified_parks_data = formating_addresses(simplified_parks_data)\n"
   ]
  },
  {
   "cell_type": "code",
   "execution_count": 50,
   "id": "7ebd276b-8e5e-453e-8382-8e2c5fed0698",
   "metadata": {},
   "outputs": [
    {
     "data": {
      "text/plain": [
       "{'id': 'BDBD573F-97EF-44E7-A579-471679F2C42A',\n",
       " 'url': 'https://www.nps.gov/blca/index.htm',\n",
       " 'fullName': 'Black Canyon Of The Gunnison National Park',\n",
       " 'parkCode': 'blca',\n",
       " 'description': 'Big enough to be overwhelming, still intimate enough to feel the pulse of time, Black Canyon of the Gunnison National Park exposes you to some of the steepest cliffs, oldest rock, and craggiest spires in North America. With two million years to work, the Gunnison River, along with the forces of weathering, has sculpted this vertical wilderness of rock, water, and sky.',\n",
       " 'activities': ['Camping',\n",
       "  'Climbing',\n",
       "  'Fishing',\n",
       "  'Hiking',\n",
       "  'Backcountry Hiking',\n",
       "  'Horse Trekking',\n",
       "  'Horseback Riding',\n",
       "  'Paddling',\n",
       "  'Kayaking',\n",
       "  'Skiing',\n",
       "  'Cross-Country Skiing',\n",
       "  'Snowshoeing',\n",
       "  'Wildlife Watching'],\n",
       " 'topics': ['Explorers and Expeditions',\n",
       "  'Transportation',\n",
       "  'Trains and Railroads',\n",
       "  'Animals',\n",
       "  'Birds',\n",
       "  'Canyons and Canyonlands',\n",
       "  'Geology'],\n",
       " 'states': 'CO',\n",
       " 'contacts': {'phoneNumber': '970-641-2337',\n",
       "  'emailAddress': 'blca_info@nps.gov'},\n",
       " 'directionsInfo': 'South Rim: 7 miles north on CO Highway 347 from the intersection with U.S. Highway 50 east of Montrose. Physical/GPS address is: 9800 Highway 347, Montrose, CO 81401 North Rim: 11 miles southwest of Crawford, Colorado. From CO Highway 92, turn west on Black Canyon Road approximately 3 miles south of Crawford. Follow the road signs to the park.',\n",
       " 'directionsUrl': 'http://www.nps.gov/blca/planyourvisit/directions.htm',\n",
       " 'operatingHours': [{'description': 'The park is open 24 hours a day, every day, and no entry reservation is needed. The South Rim Road is open to vehicles from mid-April to mid-November. In winter, the South Rim Road is open to Gunnison Point. The remainder of the road is closed to vehicles, but open to cross country skiing and snowshoeing.\\n\\nSouth Rim Visitor Center hours are listed on the Basic Information page.',\n",
       "   'standardHours': {'wednesday': 'All Day',\n",
       "    'monday': 'All Day',\n",
       "    'thursday': 'All Day',\n",
       "    'sunday': 'All Day',\n",
       "    'tuesday': 'All Day',\n",
       "    'friday': 'All Day',\n",
       "    'saturday': 'All Day'},\n",
       "   'name': 'South Rim'},\n",
       "  {'description': 'The park is open 24 hours a day, but the North Rim Road and ranger station are closed in winter and early spring. The road typically closes late November and reopens mid-April.',\n",
       "   'standardHours': {'wednesday': 'All Day',\n",
       "    'monday': 'All Day',\n",
       "    'thursday': 'All Day',\n",
       "    'sunday': 'All Day',\n",
       "    'tuesday': 'All Day',\n",
       "    'friday': 'All Day',\n",
       "    'saturday': 'All Day'},\n",
       "   'name': 'North Rim'},\n",
       "  {'description': 'East Portal Road is closed in winter. The road typically closes mid-November and reopens mid-April.',\n",
       "   'standardHours': {'wednesday': 'Closed',\n",
       "    'monday': 'Closed',\n",
       "    'thursday': 'Closed',\n",
       "    'sunday': 'Closed',\n",
       "    'tuesday': 'Closed',\n",
       "    'friday': 'Closed',\n",
       "    'saturday': 'Closed'},\n",
       "   'name': 'East Portal'}],\n",
       " 'addresses': 'South Rim Visitor Center, 9800 Highway 347, Montrose, CO, US',\n",
       " 'images': [{'title': 'Black Canyon near Tomichi Point',\n",
       "   'url': 'https://www.nps.gov/common/uploads/structured_data/3C81655F-1DD8-B71B-0B4BCFFDB74EE723.jpg'},\n",
       "  {'title': 'Black Canyon near Painted Wall',\n",
       "   'url': 'https://www.nps.gov/common/uploads/structured_data/3C8166E8-1DD8-B71B-0BDEB9A4EEEED807.jpg'}],\n",
       " 'weatherInfo': \"Today's Weather: http://www.weather.com/weather/today/l/NPBLCA:13:US CLIMATE Weather can vary greatly throughout the day. Summer daytime temperatures range between 55 to 90F (13 to 32C), nights 45 to 60F (7 to 16C). Winter daytime temperatures range between 15 to 40F (-9 to 4C), nights 10 to 20F (-12 to -6C). Afternoon thunderstorms are common during the summer. Snow accumulation varies greatly year to year. Layered clothing appropriate for the season is recommended.\"}"
      ]
     },
     "execution_count": 50,
     "metadata": {},
     "output_type": "execute_result"
    }
   ],
   "source": [
    "# Check the first record to verify the result\n",
    "simplified_parks_data[5]"
   ]
  },
  {
   "cell_type": "code",
   "execution_count": 53,
   "id": "b59e240c-d165-45f2-adc5-fd05266428c8",
   "metadata": {},
   "outputs": [],
   "source": [
    "def remove_operating_hours(parks):    \n",
    "    for park in parks:\n",
    "        # Remove operatingHours field if present\n",
    "        if 'operatingHours' in park:\n",
    "            del park['operatingHours']\n",
    "    \n",
    "    return parks\n",
    "\n",
    "# Apply the function\n",
    "simplified_parks_data = remove_operating_hours(simplified_parks_data)"
   ]
  },
  {
   "cell_type": "code",
   "execution_count": 54,
   "id": "4876abdd-1e05-4ba7-bd6b-e4144a2ae269",
   "metadata": {},
   "outputs": [],
   "source": [
    "def simplify_contacts(parks):    \n",
    "    for park in parks:\n",
    "        # Simplify contacts field if present\n",
    "        if 'contacts' in park:\n",
    "            phone = park['contacts'].get('phoneNumber', '')\n",
    "            email = park['contacts'].get('emailAddress', '')\n",
    "            \n",
    "            # Create a simplified string for contacts\n",
    "            simplified_contact = f\"{phone}, {email}\" if phone and email else phone or email\n",
    "            park['contacts'] = simplified_contact\n",
    "    \n",
    "    return parks\n",
    "\n",
    "# Apply the function\n",
    "simplified_parks_data = simplify_contacts(simplified_parks_data)\n"
   ]
  },
  {
   "cell_type": "code",
   "execution_count": 57,
   "id": "7098c305-3f63-4915-9fd9-03400d94b5b0",
   "metadata": {},
   "outputs": [
    {
     "data": {
      "text/plain": [
       "{'id': '6DA17C86-088E-4B4D-B862-7C1BD5CF236B',\n",
       " 'url': 'https://www.nps.gov/acad/index.htm',\n",
       " 'fullName': 'Acadia National Park',\n",
       " 'parkCode': 'acad',\n",
       " 'description': \"Acadia National Park protects the natural beauty of the highest rocky headlands along the Atlantic coastline of the United States, an abundance of habitats, and a rich cultural heritage. At 4 million visits a year, it's one of the top 10 most-visited national parks in the United States. Visitors enjoy 27 miles of historic motor roads, 158 miles of hiking trails, and 45 miles of carriage roads.\",\n",
       " 'activities': ['Arts and Culture',\n",
       "  'Cultural Demonstrations',\n",
       "  'Astronomy',\n",
       "  'Stargazing',\n",
       "  'Biking',\n",
       "  'Boating',\n",
       "  'Camping',\n",
       "  'Group Camping',\n",
       "  'Climbing',\n",
       "  'Rock Climbing',\n",
       "  'Compass and GPS',\n",
       "  'Geocaching',\n",
       "  'Fishing',\n",
       "  'Freshwater Fishing',\n",
       "  'Fly Fishing',\n",
       "  'Saltwater Fishing',\n",
       "  'Food',\n",
       "  'Picnicking',\n",
       "  'Guided Tours',\n",
       "  'Bus/Shuttle Guided Tour',\n",
       "  'Boat Tour',\n",
       "  'Hands-On',\n",
       "  'Citizen Science',\n",
       "  'Hiking',\n",
       "  'Front-Country Hiking',\n",
       "  'Horse Trekking',\n",
       "  'Horseback Riding',\n",
       "  'Ice Skating',\n",
       "  'Paddling',\n",
       "  'Canoeing',\n",
       "  'Kayaking',\n",
       "  'Stand Up Paddleboarding',\n",
       "  'Junior Ranger Program',\n",
       "  'Skiing',\n",
       "  'Cross-Country Skiing',\n",
       "  'Snow Play',\n",
       "  'Snowmobiling',\n",
       "  'Snowshoeing',\n",
       "  'Swimming',\n",
       "  'Freshwater Swimming',\n",
       "  'Saltwater Swimming',\n",
       "  'Wildlife Watching',\n",
       "  'Birdwatching',\n",
       "  'Park Film',\n",
       "  'Shopping',\n",
       "  'Bookstore and Park Store'],\n",
       " 'topics': ['Arts',\n",
       "  'Painting',\n",
       "  'Photography',\n",
       "  'Poetry and Literature',\n",
       "  'Sculpture',\n",
       "  'Colonization and Settlement',\n",
       "  'Maritime',\n",
       "  'Lighthouses',\n",
       "  'Monuments and Memorials',\n",
       "  'Schools and Education',\n",
       "  'Transportation',\n",
       "  'Bridges',\n",
       "  'Roads, Routes and Highways',\n",
       "  'Tragic Events',\n",
       "  'Catastrophic Fires',\n",
       "  \"Women's History\",\n",
       "  'Animals',\n",
       "  'Birds',\n",
       "  'Fish',\n",
       "  'Climate Change',\n",
       "  'Fire',\n",
       "  'Forests and Woodlands',\n",
       "  'Geology',\n",
       "  'Lakes',\n",
       "  'Mountains',\n",
       "  'Night Sky',\n",
       "  'Astronomy',\n",
       "  'Oceans',\n",
       "  'Rock Landscapes and Features',\n",
       "  'Trails',\n",
       "  'Wetlands'],\n",
       " 'states': 'ME',\n",
       " 'contacts': '2072883338, acadia_information@nps.gov',\n",
       " 'directionsInfo': 'From Boston take I-95 north to Augusta, Maine, then Route 3 east to Ellsworth, and on to Mount Desert Island. For an alternate route, continue on I-95 north to Bangor, Maine, then take I-395 to U.S. Route 1A east to Ellsworth. In Ellsworth, take Route 3 to Mount Desert Island.',\n",
       " 'directionsUrl': 'http://www.nps.gov/acad/planyourvisit/directions.htm',\n",
       " 'addresses': '25 Visitor Center Road, Hulls Cove Visitor Center, Bar Harbor, ME, US',\n",
       " 'images': [{'title': \"Acadia's rocky coastline\",\n",
       "   'url': 'https://www.nps.gov/common/uploads/structured_data/3C7B45AE-1DD8-B71B-0B7EE131C7DFC2F5.jpg'},\n",
       "  {'title': 'Heavy snow-laden trees',\n",
       "   'url': 'https://www.nps.gov/common/uploads/structured_data/3C7B4BEC-1DD8-B71B-0B2CF833F93140FF.jpg'},\n",
       "  {'title': 'Sunset atop Cadillac Mountain',\n",
       "   'url': 'https://www.nps.gov/common/uploads/structured_data/3C7B477B-1DD8-B71B-0BCB48E009241BAA.jpg'},\n",
       "  {'title': 'Climbing The Precipice',\n",
       "   'url': 'https://www.nps.gov/common/uploads/structured_data/3C7B48F9-1DD8-B71B-0BD3B413E58978F8.jpg'}],\n",
       " 'weatherInfo': 'Located on Mount Desert Island in Maine, Acadia experiences all four seasons. Summer temperatures range from 45-90F (7-30C). Fall temperatures range from 30-70F (-1-21C). Typically the first frost is in mid-October and first snowfall begins in November and can continue through April with an average accumulation of 73 inches (185 cm). Winter temperatures range from 14-35F (-10 - 2C). Spring temperatures range from 30-70F (-1-21C).'}"
      ]
     },
     "execution_count": 57,
     "metadata": {},
     "output_type": "execute_result"
    }
   ],
   "source": [
    "# Output the result\n",
    "simplified_parks_data[0]"
   ]
  },
  {
   "cell_type": "code",
   "execution_count": 58,
   "id": "241df567-fc89-41a2-b078-a038bd6fd4ad",
   "metadata": {},
   "outputs": [
    {
     "name": "stdout",
     "output_type": "stream",
     "text": [
      "Data saved to simplified_national_parks_data.json\n"
     ]
    }
   ],
   "source": [
    "with open('simplified_national_parks_data.json', 'w') as json_file:\n",
    "    json.dump(simplified_parks_data, json_file, indent=4)\n",
    "\n",
    "print(\"Data saved to simplified_national_parks_data.json\")"
   ]
  },
  {
   "cell_type": "code",
   "execution_count": null,
   "id": "34d01bad-66b2-4075-8af6-5f7b3bdb15be",
   "metadata": {},
   "outputs": [],
   "source": []
  }
 ],
 "metadata": {
  "kernelspec": {
   "display_name": "Python 3 (ipykernel)",
   "language": "python",
   "name": "python3"
  },
  "language_info": {
   "codemirror_mode": {
    "name": "ipython",
    "version": 3
   },
   "file_extension": ".py",
   "mimetype": "text/x-python",
   "name": "python",
   "nbconvert_exporter": "python",
   "pygments_lexer": "ipython3",
   "version": "3.11.6"
  }
 },
 "nbformat": 4,
 "nbformat_minor": 5
}
