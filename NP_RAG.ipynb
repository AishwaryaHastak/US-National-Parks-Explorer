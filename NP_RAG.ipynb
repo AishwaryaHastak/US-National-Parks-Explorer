{
 "cells": [
  {
   "cell_type": "code",
   "execution_count": 1,
   "id": "3b488ad6-bbb3-45d1-998b-9bba2089c4a9",
   "metadata": {},
   "outputs": [
    {
     "name": "stdout",
     "output_type": "stream",
     "text": [
      "--2024-09-26 19:39:14--  https://raw.githubusercontent.com/alexeygrigorev/minsearch/main/minsearch.py\n",
      "Resolving raw.githubusercontent.com (raw.githubusercontent.com)... 185.199.110.133, 185.199.111.133, 185.199.108.133, ...\n",
      "Connecting to raw.githubusercontent.com (raw.githubusercontent.com)|185.199.110.133|:443... connected.\n",
      "HTTP request sent, awaiting response... 200 OK\n",
      "Length: 3832 (3.7K) [text/plain]\n",
      "Saving to: ‘minsearch.py’\n",
      "\n",
      "minsearch.py        100%[===================>]   3.74K  --.-KB/s    in 0s      \n",
      "\n",
      "2024-09-26 19:39:14 (9.80 MB/s) - ‘minsearch.py’ saved [3832/3832]\n",
      "\n"
     ]
    }
   ],
   "source": [
    "!wget https://raw.githubusercontent.com/alexeygrigorev/minsearch/main/minsearch.py"
   ]
  },
  {
   "cell_type": "code",
   "execution_count": 39,
   "id": "ae377890-e43a-41e6-8911-b693cf749a80",
   "metadata": {},
   "outputs": [],
   "source": [
    "import minsearch\n",
    "import json\n",
    "with open('simplified_national_parks_data.json', 'rt') as f_in:\n",
    "    docs_raw = json.load(f_in)\n"
   ]
  },
  {
   "cell_type": "code",
   "execution_count": 2,
   "id": "078bc688-5888-4c8f-b9b7-e22e6a749805",
   "metadata": {},
   "outputs": [
    {
     "name": "stdout",
     "output_type": "stream",
     "text": [
      "Requirement already satisfied: elasticsearch==7.17.0 in /Library/Frameworks/Python.framework/Versions/3.11/lib/python3.11/site-packages (7.17.0)\n",
      "Requirement already satisfied: urllib3<2,>=1.21.1 in /Library/Frameworks/Python.framework/Versions/3.11/lib/python3.11/site-packages (from elasticsearch==7.17.0) (1.26.20)\n",
      "Requirement already satisfied: certifi in /Library/Frameworks/Python.framework/Versions/3.11/lib/python3.11/site-packages (from elasticsearch==7.17.0) (2022.12.7)\n",
      "\n",
      "\u001b[1m[\u001b[0m\u001b[34;49mnotice\u001b[0m\u001b[1;39;49m]\u001b[0m\u001b[39;49m A new release of pip is available: \u001b[0m\u001b[31;49m23.2.1\u001b[0m\u001b[39;49m -> \u001b[0m\u001b[32;49m24.2\u001b[0m\n",
      "\u001b[1m[\u001b[0m\u001b[34;49mnotice\u001b[0m\u001b[1;39;49m]\u001b[0m\u001b[39;49m To update, run: \u001b[0m\u001b[32;49mpip3 install --upgrade pip\u001b[0m\n",
      "Note: you may need to restart the kernel to use updated packages.\n"
     ]
    }
   ],
   "source": [
    "pip install elasticsearch==7.17.0"
   ]
  },
  {
   "cell_type": "code",
   "execution_count": 9,
   "id": "59fc7b29-50d5-46c0-b9ac-ab1b5896022b",
   "metadata": {},
   "outputs": [
    {
     "name": "stderr",
     "output_type": "stream",
     "text": [
      "/var/folders/y_/2fr4l7w5225c3d_xq68300q00000gn/T/ipykernel_68088/4178800714.py:5: DeprecationWarning: The 'body' parameter is deprecated for the 'create' API and will be removed in a future version. Instead use API parameters directly. See https://github.com/elastic/elasticsearch-py/issues/1698 for more information\n",
      "  es.indices.create(index=index_name, body=mapping)\n"
     ]
    },
    {
     "data": {
      "text/plain": [
       "{'acknowledged': True, 'shards_acknowledged': True, 'index': 'parks'}"
      ]
     },
     "execution_count": 9,
     "metadata": {},
     "output_type": "execute_result"
    }
   ],
   "source": [
    "if es.indices.exists(index=index_name):\n",
    "    es.indices.delete(index=index_name)\n",
    "\n",
    "# Now create the index\n",
    "es.indices.create(index=index_name, body=mapping)\n"
   ]
  },
  {
   "cell_type": "markdown",
   "id": "4c160dce-2e98-4b1c-99e3-d158192da04e",
   "metadata": {},
   "source": [
    "https://github.com/DataTalksClub/llm-zoomcamp/blob/main/02-open-source/huggingface-mistral-7b.ipynb"
   ]
  },
  {
   "cell_type": "code",
   "execution_count": 41,
   "id": "281e1ef0-c339-40a7-8e77-ef16af61777e",
   "metadata": {},
   "outputs": [
    {
     "name": "stdout",
     "output_type": "stream",
     "text": [
      "Index 'parks' already exists. Deleting and recreating it.\n",
      "Data indexed successfully.\n"
     ]
    },
    {
     "name": "stderr",
     "output_type": "stream",
     "text": [
      "/var/folders/y_/2fr4l7w5225c3d_xq68300q00000gn/T/ipykernel_68088/1336480644.py:40: DeprecationWarning: The 'body' parameter is deprecated for the 'create' API and will be removed in a future version. Instead use API parameters directly. See https://github.com/elastic/elasticsearch-py/issues/1698 for more information\n",
      "  es.indices.create(index=index_name, body=mapping)\n"
     ]
    }
   ],
   "source": [
    "from elasticsearch import Elasticsearch, helpers\n",
    "\n",
    "# Initialize Elasticsearch client\n",
    "es = Elasticsearch([{'host': 'localhost', 'port': 9200}])\n",
    "\n",
    "# Define your index schema (mapping) with additional fields\n",
    "index_name = \"parks\"\n",
    "mapping = {\n",
    "    \"mappings\": {\n",
    "        \"properties\": {\n",
    "            \"description\": {\"type\": \"text\"},\n",
    "            \"activities\": {\"type\": \"text\"},\n",
    "            \"topics\": {\"type\": \"text\"},\n",
    "            \"weatherInfo\": {\"type\": \"text\"},\n",
    "            \"fullName\": {\"type\": \"text\"},\n",
    "            \"parkCode\": {\"type\": \"keyword\"},\n",
    "            \"states\": {\"type\": \"text\"},\n",
    "            \"contacts\": {\"type\": \"text\"},  # Simplified contacts as text\n",
    "            \"url\": {\"type\": \"text\"},\n",
    "            \"directionsInfo\": {\"type\": \"text\"},\n",
    "            \"directionsUrl\": {\"type\": \"text\"},\n",
    "            \"addresses\": {\"type\": \"text\"},\n",
    "            \"images\": {\n",
    "                \"type\": \"nested\",  # Since images are a list of objects\n",
    "                \"properties\": {\n",
    "                    \"title\": {\"type\": \"text\"},\n",
    "                    \"url\": {\"type\": \"text\"}\n",
    "                }\n",
    "            }\n",
    "        }\n",
    "    }\n",
    "}\n",
    "\n",
    "# Check if the index exists and create it if it doesn't\n",
    "if es.indices.exists(index=index_name):\n",
    "    print(f\"Index '{index_name}' already exists. Deleting and recreating it.\")\n",
    "    es.indices.delete(index=index_name)\n",
    "\n",
    "# Create the index with the mapping\n",
    "es.indices.create(index=index_name, body=mapping)\n",
    "\n",
    "\n",
    "# Prepare the documents (in the format Elasticsearch expects)\n",
    "docs = [\n",
    "    {\n",
    "        '_index': index_name,\n",
    "        '_source': {\n",
    "            'id': doc['id'],\n",
    "            'url': doc['url'],\n",
    "            'fullName': doc['fullName'],\n",
    "            'parkCode': doc['parkCode'],\n",
    "            'description': doc['description'],\n",
    "            'activities': ' '.join(doc['activities']),  # Join activities into a single string\n",
    "            'topics': ' '.join(doc['topics']),  # Join topics into a single string\n",
    "            'states': doc['states'],\n",
    "            'contacts': doc['contacts'],  # Using the simplified contacts as text\n",
    "            'directionsInfo': doc['directionsInfo'],\n",
    "            'directionsUrl': doc['directionsUrl'],\n",
    "            'addresses': doc['addresses'],  # Simplified addresses as text\n",
    "            'images': doc['images'],  # Nested images structure\n",
    "            'weatherInfo': doc.get('weatherInfo', '')\n",
    "        }\n",
    "    } for doc in docs_raw\n",
    "]\n",
    "\n",
    "# Bulk insert the documents into Elasticsearch\n",
    "helpers.bulk(es, docs)\n",
    "\n",
    "print(\"Data indexed successfully.\")\n"
   ]
  },
  {
   "cell_type": "code",
   "execution_count": 45,
   "id": "a9e9cc79-7060-478a-af69-05522d343a56",
   "metadata": {},
   "outputs": [
    {
     "name": "stdout",
     "output_type": "stream",
     "text": [
      "[{'_source': {'id': 'D9819727-18DF-4A84-BDDE-D4F2696DE340', 'url': 'https://www.nps.gov/grsm/index.htm', 'fullName': 'Great Smoky Mountains National Park', 'parkCode': 'grsm', 'description': \"Ridge upon ridge of forest straddles the border between North Carolina and Tennessee in Great Smoky Mountains National Park. World renowned for its diversity of plant and animal life, the beauty of its ancient mountains, and the quality of its remnants of Southern Appalachian mountain culture, this is America's most visited national park. Plan your visit today!\", 'activities': 'Arts and Culture Live Music Auto and ATV Scenic Driving Astronomy Stargazing Biking Road Biking Camping Backcountry Camping Car or Front Country Camping Horse Camping (see also Horse/Stock Use) Group Camping RV Camping Fishing Freshwater Fishing Fly Fishing Food Picnicking Guided Tours Self-Guided Tours - Auto Hands-On Citizen Science Hiking Backcountry Hiking Front-Country Hiking Horse Trekking Horse Camping (see also camping) Horseback Riding Junior Ranger Program Wildlife Watching Birdwatching Park Film Museum Exhibits Shopping Bookstore and Park Store', 'topics': '', 'states': 'NC,TN', 'contacts': '(865)436-1200, GRSM_Smokies_Information@nps.gov', 'directionsInfo': 'Great Smoky Mountains National Park straddles the borders of the states of Tennessee and North Carolina. The three main entrances to the park are in Gatlinburg, TN; Townsend, TN; and Cherokee, NC.', 'directionsUrl': 'http://www.nps.gov/grsm/planyourvisit/directions.htm', 'addresses': '107 Park Headquarters Road, Gatlinburg, TN, US', 'images': [{'title': 'The \"Wildflower National Park\"', 'url': 'https://www.nps.gov/common/uploads/structured_data/3C80F02B-1DD8-B71B-0BBC2DFD4E9349E9.jpg'}, {'title': '\"Smoke\" Rising From the Mountains', 'url': 'https://www.nps.gov/common/uploads/structured_data/3C80EC37-1DD8-B71B-0B87F63E8B030D15.jpg'}, {'title': 'Frosty Morning in Cades Cove', 'url': 'https://www.nps.gov/common/uploads/structured_data/3C80E3F4-1DD8-B71B-0BFF4F2280EF1B52.jpg'}, {'title': 'Fall Colors Near Newfound Gap', 'url': 'https://www.nps.gov/common/uploads/structured_data/3C80F1CC-1DD8-B71B-0B784AC1BCA74166.jpg'}, {'title': 'Fall Meets Winter', 'url': 'https://www.nps.gov/common/uploads/structured_data/3C80F6C9-1DD8-B71B-0B33F35922A21B3B.jpg'}, {'title': 'A Foggy Morning at Cades Cove Methodist Church', 'url': 'https://www.nps.gov/common/uploads/structured_data/3C80EDBC-1DD8-B71B-0B743AF911FE7557.jpg'}, {'title': 'The Waters of Roaring Fork Below Grotto Falls', 'url': 'https://www.nps.gov/common/uploads/structured_data/3C80EEE2-1DD8-B71B-0BC2620AAA57D7CA.jpg'}], 'weatherInfo': 'Elevations in the park range from approximately 875 feet (267 meters) to 6,643 feet (2,025 meters) and the topography can drastically affect local weather. Temperatures can vary by 10-20 degrees Fahrenheit from mountain base to top, and clear skies lower down do not guarantee equally pleasant weather at higher elevations.'}, '_score': 19.713219}, {'_source': {'id': '6510001B-685D-4688-A963-4ECE7AB609DB', 'url': 'https://www.nps.gov/gumo/index.htm', 'fullName': 'Guadalupe Mountains National Park', 'parkCode': 'gumo', 'description': \"Come experience mountains and canyons, desert and dunes, night skies and spectacular vistas within a place unlike any other. Guadalupe Mountains National Park protects the world's most extensive Permian fossil reef, the four highest peaks in Texas, an environmentally diverse collection of flora and fauna, and the stories of lives shaped through conflict, cooperation and survival.\", 'activities': 'Auto and ATV Auto Off-Roading Camping Backcountry Camping Car or Front Country Camping Horse Camping (see also Horse/Stock Use) Group Camping RV Camping Guided Tours Self-Guided Tours - Walking Hiking Backcountry Hiking Front-Country Hiking Horse Trekking Horse Camping (see also camping) Horseback Riding Junior Ranger Program Wildlife Watching Birdwatching Museum Exhibits', 'topics': 'Archeology Ruins Colonization and Settlement Farming and  Agriculture Ranches Military US Army Native American Heritage Transportation Roads, Routes and Highways Animals Birds Canyons and Canyonlands Dunes Fire Fossils and Paleontology Geology Mountains Rock Landscapes and Features Trails', 'states': 'TX', 'contacts': '915-828-3251, gumo_information@nps.gov', 'directionsInfo': 'Guadalupe Mountains National Park is located on the north side of US Hwy 62/180. If you are traveling east from El Paso, TX, we are 110 miles East of the city. Follow US Hwy 62/180 North to the Pine Springs Visitor Center. If you are traveling from Van Horn, TX, you will travel north on US 54 and make a right-hand turn at the junction of US 62/180 to arrive at the park. If you are traveling west from Carlsbad, NM, you will travel on US Hwy 62/180 South and cross into Texas. Follow signs to the park.', 'directionsUrl': 'http://www.nps.gov/gumo/planyourvisit/directions.htm', 'addresses': '400 Pine Canyon, Salt Flat, TX, US', 'images': [{'title': 'El Capitan', 'url': 'https://www.nps.gov/common/uploads/structured_data/3C825533-1DD8-B71B-0B6FDF436F604A3C.jpg'}, {'title': 'Flooded Salt Flats', 'url': 'https://www.nps.gov/common/uploads/structured_data/3C825A11-1DD8-B71B-0BAAA0BDF174AA2F.jpg'}, {'title': \"Devil's Hall Fall Colors\", 'url': 'https://www.nps.gov/common/uploads/structured_data/3C8256DA-1DD8-B71B-0B7E4BE83A8B56F9.jpg'}, {'title': 'Pratt Cabin', 'url': 'https://www.nps.gov/common/uploads/structured_data/3C82588D-1DD8-B71B-0B233383D71368EB.jpg'}, {'title': 'The Bowl wildflowers', 'url': 'https://www.nps.gov/common/uploads/structured_data/3C82A652-1DD8-B71B-0B7E219169341CAD.jpg'}, {'title': 'Entrance Sign', 'url': 'https://www.nps.gov/common/uploads/structured_data/AC3F41C8-CB05-1F59-18AFF80496BA94D1.jpg'}], 'weatherInfo': 'The Guadalupe Mountains are known for high winds year-round; gusts can reach 60MPH or higher. In winter the mountains experiences occasional, light snowfalls which seldom last more than a day. From May through October, temperatures vary with highs between 80F-100F+ with lows in the 40F-60F range. November to April is generally milder with highs in between 50F-70F with lows in the 30F-50F range. Elevations above 8,000’ will be about 10F cooler than headquarters, with corresponding wind-chill.'}, '_score': 8.79369}, {'_source': {'id': '5F76F85B-23F4-4616-AA0B-A26E8DE76593', 'url': 'https://www.nps.gov/lacl/index.htm', 'fullName': 'Lake Clark National Park & Preserve', 'parkCode': 'lacl', 'description': 'Lake Clark National Park and Preserve is a land of stunning beauty. Volcanoes steam, salmon run, bears forage, and craggy mountains reflect in shimmering turquoise lakes. Here, too, local people and culture still depend on the land and water. Venture into the park to become part of the wilderness.', 'activities': 'Astronomy Stargazing Biking Boating Motorized Boating Camping Backcountry Camping Canoe or Kayak Camping Climbing Mountain Climbing Compass and GPS Orienteering Fishing Freshwater Fishing Fly Fishing Flying Fixed Wing Flying Guided Tours Self-Guided Tours - Walking Hiking Backcountry Hiking Front-Country Hiking Off-Trail Permitted Hiking Hunting and Gathering Hunting Paddling Canoeing Canoe or Kayak Camping Kayaking Stand Up Paddleboarding Junior Ranger Program Skiing Cross-Country Skiing Snow Play Snowshoeing Wildlife Watching Birdwatching Shopping Bookstore and Park Store', 'topics': 'Archeology Arts Photography Aviation Explorers and Expeditions Farming and  Agriculture Industry Mining Native American Heritage Animals Birds Fish Wolves Arctic Tundra Climate Change Coasts, Islands and Atolls Estuaries and Mangroves Fire Forests and Woodlands Fossils and Paleontology Geology Glaciers Grasslands Meadows Lakes Mountains Natural Sounds Night Sky Astronomy Aurora Borealis Oceans River and Riparian Scenic Views Trails Volcanoes Watersheds Headwaters Waterfalls Wetlands Marshes Wilderness', 'states': 'AK', 'contacts': '9076443626, lacl_visitor_information@nps.gov', 'directionsInfo': 'Lake Clark is located on the Alaska Peninsula southwest of Anchorage and north of Katmai National Park. It is not on the road system; therefore, in order to get here you must travel either via plane or by boat. A one to two-hour flight from Anchorage, Kenai, or Homer will provide access to most points within Lake Clark. Fixed-wing aircraft are allowed to land on all suitable lakes, rivers, beaches, gravel bars, and open ground in both the park and preserve unless the area is closed or otherwise restricted.', 'directionsUrl': 'http://www.nps.gov/lacl/planyourvisit/directions.htm', 'addresses': '1 Park Place, Port Alsworth, AK, US', 'images': [{'title': 'Lake Clark', 'url': 'https://www.nps.gov/common/uploads/structured_data/3C7A9F9E-1DD8-B71B-0B6CEC8EF3F377DA.jpg'}, {'title': 'Tanalian Falls', 'url': 'https://www.nps.gov/common/uploads/structured_data/3C7AA462-1DD8-B71B-0BB13D97381C04B0.jpg'}, {'title': 'Redoubt Volcano', 'url': 'https://www.nps.gov/common/uploads/structured_data/3C7AA140-1DD8-B71B-0BE3ECC0A8EE0DE5.jpg'}, {'title': 'Tanaina Glacier', 'url': 'https://www.nps.gov/common/uploads/structured_data/3C7A9D02-1DD8-B71B-0B154E93FCC5D7F9.jpg'}, {'title': 'Two cubs playing at Silver Salmon Creek', 'url': 'https://www.nps.gov/common/uploads/structured_data/C521C4DB-C6CB-EB6B-242225CB76BAB42E.jpg'}, {'title': 'Boreal Forest', 'url': 'https://www.nps.gov/common/uploads/structured_data/3C7A9BBB-1DD8-B71B-0BD4675D87449A15.jpg'}, {'title': 'Telaquana Lake', 'url': 'https://www.nps.gov/common/uploads/structured_data/3C7AA70A-1DD8-B71B-0BCA87C6E2CA136E.jpg'}, {'title': 'West Glacier Creek', 'url': 'https://www.nps.gov/common/uploads/structured_data/3C7AA5B4-1DD8-B71B-0BCD819BADB29D2E.jpg'}, {'title': 'Richard L. Proenneke National Historic Site', 'url': 'https://www.nps.gov/common/uploads/structured_data/3C7AA314-1DD8-B71B-0B5E93E5AD68E6D5.jpg'}], 'weatherInfo': 'Lake Clark has two distinct climate areas: the coast and the interior. The coast is wetter and experiences milder temperatures. The interior gets half to one fourth as much precipitation, but temperatures are hotter in summer and colder in winter. Frost and snow can occur any time parkwide, but are most common from September to early June. Lakes here typically begins freezing in November and melting in April. Ice conditions dictate whether planes need floats or skis to land on lakes.'}, '_score': 6.4639053}, {'_source': {'id': 'FF73E2AA-E274-44E1-A8F5-9DD998B0F579', 'url': 'https://www.nps.gov/grte/index.htm', 'fullName': 'Grand Teton National Park', 'parkCode': 'grte', 'description': 'Soaring over a landscape rich with wildlife, pristine lakes, and majestic alpine vistas, the Teton Range stands as a testament to generations of stewards. For over 11,000 years, communities have thrived in the valley known as Jackson Hole, turning these mountains into more than just peaks—they embody imagination and enduring human connection.', 'activities': 'Arts and Culture Cultural Demonstrations Auto and ATV Scenic Driving Biking Road Biking Boating Motorized Boating Sailing Boat Tour Camping Backcountry Camping Canoe or Kayak Camping Car or Front Country Camping Horse Camping (see also Horse/Stock Use) Group Camping RV Camping Climbing Rock Climbing Mountain Climbing Ice Climbing Fishing Freshwater Fishing Fly Fishing Food Dining Guided Tours Self-Guided Tours - Auto Boat Tour Hiking Backcountry Hiking Front-Country Hiking Off-Trail Permitted Hiking Horse Trekking Horse Camping (see also camping) Horseback Riding Hunting and Gathering Hunting Paddling Canoeing Canoe or Kayak Camping Kayaking Stand Up Paddleboarding Junior Ranger Program Skiing Cross-Country Skiing Snow Play Snowmobiling Snowshoeing Water Skiing Wildlife Watching Birdwatching Shopping Bookstore and Park Store', 'topics': 'Architecture and Building Explorers and Expeditions Farming and  Agriculture Ranches Native American Heritage Westward Expansion Homesteading Animals Bison Elk Wolves Climate Change Fire Forests and Woodlands Geology Glaciers Lakes Mountains Scenic Views Unique Species Endangered Wilderness', 'states': 'WY', 'contacts': '307-739-3399, grte_info@nps.gov', 'directionsInfo': 'Grand Teton National Park is located in northwestern Wyoming; north of the town of Jackson, Wyoming and south of Yellowstone National Park. By car from Salt Lake City, Utah is approximately 300 miles and about 5-6 hours from the park and from Denver, Colorado is approximately 550 miles and about 8-10 hours from the park. Grand Teton National Park is unique in that it is the only national park that has a commercial airport within its border, Jackson Hole Airport (JAC). For current road info:', 'directionsUrl': 'http://www.nps.gov/grte/planyourvisit/directions.htm', 'addresses': '103 Headquarters Loop, Moose, WY, US', 'images': [{'title': 'North Fork Cascade Canyon', 'url': 'https://www.nps.gov/common/uploads/structured_data/3C7FA4C5-1DD8-B71B-0B7FCC54E43FEE79.jpg'}, {'title': 'Winter Sunrise on the Teton Range', 'url': 'https://www.nps.gov/common/uploads/structured_data/3C7FA7B7-1DD8-B71B-0B7B45B73D1C90C3.jpg'}, {'title': 'Grizzly Bear', 'url': 'https://www.nps.gov/common/uploads/structured_data/3C7FA923-1DD8-B71B-0B30EAF26172B37E.jpg'}, {'title': 'Lake Solitude with the Cathedral Group', 'url': 'https://www.nps.gov/common/uploads/structured_data/3C7FAC1D-1DD8-B71B-0B1A9E05DFA2AD10.jpg'}, {'title': 'Oxbow Bend and Mount Moran', 'url': 'https://www.nps.gov/common/uploads/structured_data/3C7FAD94-1DD8-B71B-0B3909D0F78F4B29.jpg'}, {'title': 'Visitors at the Snake River Overlook', 'url': 'https://www.nps.gov/common/uploads/structured_data/3C7FB060-1DD8-B71B-0BC5EE916AAA7E86.jpg'}, {'title': 'John Moulton Barn at Mormon Row', 'url': 'https://www.nps.gov/common/uploads/structured_data/3C7FBF1F-1DD8-B71B-0B9125A1004AB2D5.jpg'}, {'title': 'American Pika (Ochotona princeps)', 'url': 'https://www.nps.gov/common/uploads/structured_data/3C7FC084-1DD8-B71B-0BA15A2029FE25D5.jpg'}, {'title': 'Moose', 'url': 'https://www.nps.gov/common/uploads/structured_data/3C7FC1D0-1DD8-B71B-0BE07FCB0A12AC0B.jpg'}, {'title': 'Schwabacher Landing', 'url': 'https://www.nps.gov/common/uploads/structured_data/3C7FC332-1DD8-B71B-0B33576EE630E247.jpg'}, {'title': 'Arrowleaf Balsamroot', 'url': 'https://www.nps.gov/common/uploads/structured_data/3C7FC5D7-1DD8-B71B-0BD39976D94BEA47.jpg'}], 'weatherInfo': 'Grand Teton National Park has long, cold winters—snow and frost are possible any month. April, May, & June - Mild days and cool nights alternate with rain and snow. July & August - Warm days and cool nights prevail, with afternoon thundershowers common. September, October, & November - Sunny days and cold nights alternate with rain and occasional snowstorms. December to April - Between storms the days are sunny and nights are frigid. Snow blankets the mountains and valley.'}, '_score': 6.2772007}, {'_source': {'id': '7E5A693C-2F63-44FD-B791-31FC8B8B6285', 'url': 'https://www.nps.gov/seki/index.htm', 'fullName': 'Sequoia & Kings Canyon National Parks', 'parkCode': 'seki', 'description': 'Huge mountains, rugged foothills, deep canyons, vast caverns, and the world’s largest trees exemplify the diversity of landscapes, life, and beauty here. Explore these pages to plan your visit or to learn about the plants and animals here and the threats they face. Ancient giant sequoias may seem invincible, but they, too are vulnerable.', 'activities': 'Auto and ATV Scenic Driving Astronomy Stargazing Camping Backcountry Camping Car or Front Country Camping Horse Camping (see also Horse/Stock Use) Group Camping RV Camping Caving Climbing Rock Climbing Fishing Freshwater Fishing Fly Fishing Food Dining Picnicking Guided Tours Hands-On Citizen Science Hiking Backcountry Hiking Front-Country Hiking Horse Trekking Horseback Riding Junior Ranger Program Skiing Cross-Country Skiing Snow Play Snowshoeing Wildlife Watching Birdwatching Park Film Museum Exhibits Shopping Bookstore and Park Store Gift Shop and Souvenirs', 'topics': 'African American Heritage Arts Painting Photography Poetry and Literature Transportation Roads, Routes and Highways Animals Birds Caves, Caverns and Karst Canyons and Canyonlands Climate Change Fire Foothills, Plains and Valleys Forests and Woodlands Coniferous Forests Geology Grasslands Meadows Lakes Mountains Natural Sounds Night Sky Astronomy River and Riparian Rock Landscapes and Features Scenic Views Trails Unique Species Rare Endangered Watersheds Headwaters Wilderness', 'states': 'CA', 'contacts': '5595653341, SEKI_information@nps.gov', 'directionsInfo': 'Two highways enter the parks. Hwy 180 from Fresno leads east to Kings Canyon National Park, then continues 30 miles east to Cedar Grove. Hwy 198 from Visalia leads east to Sequoia National Park via Three Rivers. Inside the parks, Highway 198 becomes the Generals Highway, which connects 198 to 180. Vehicles over 22-feet long should enter the parks via Highway 180. In winter, the Generals Highway between the parks often closes. Chains may be required on park roads. No roads cross these parks east to west.', 'directionsUrl': 'http://www.nps.gov/seki/planyourvisit/directions.htm', 'addresses': '47050 Generals Highway, Three Rivers, CA, US', 'images': [{'title': 'Kings Canyon', 'url': 'https://www.nps.gov/common/uploads/structured_data/3C7A250B-1DD8-B71B-0BCF61A89A8B2970.jpg'}, {'title': 'The Tablelands', 'url': 'https://www.nps.gov/common/uploads/structured_data/3C7A2835-1DD8-B71B-0B468E834049FBE4.jpg'}, {'title': 'Moro Rock', 'url': 'https://www.nps.gov/common/uploads/structured_data/3C7A2E1B-1DD8-B71B-0B4D563CB47FA60F.jpg'}, {'title': 'Giant Sequoia in Winter', 'url': 'https://www.nps.gov/common/uploads/structured_data/3C7A301B-1DD8-B71B-0B8311F9B0AC4F69.jpg'}, {'title': 'Giant Forest Museum', 'url': 'https://www.nps.gov/common/uploads/structured_data/3C7A4E3C-1DD8-B71B-0B99ADC8D2689BDE.jpg'}], 'weatherInfo': 'Because of the extreme elevation range in the parks, weather conditions vary widely between areas. In summer, the sequoia groves have comfortable temperatures and the foothills are hot and dry. Snow lingers on high-mountain passes well into summer. In fall, conditions can range from summer-like to winter-like. Winter brings snow to sequoia groves and rain to the foothills. Be prepared for tire chain requirements. Spring is a great time to hike in the foothills and snow begins to melt at higher elevations.'}, '_score': 6.1823177}]\n"
     ]
    },
    {
     "name": "stderr",
     "output_type": "stream",
     "text": [
      "/var/folders/y_/2fr4l7w5225c3d_xq68300q00000gn/T/ipykernel_68088/3033801004.py:56: DeprecationWarning: The 'body' parameter is deprecated for the 'search' API and will be removed in a future version. Instead use API parameters directly. See https://github.com/elastic/elasticsearch-py/issues/1698 for more information\n",
      "  response = es.search(index=index_name, body=search_body)\n"
     ]
    }
   ],
   "source": [
    "def search_elasticsearch(query, filters=None, boost_fields=None, num_results=10):\n",
    "    \"\"\"\n",
    "    Search Elasticsearch index with optional filters and boosting.\n",
    "\n",
    "    Args:\n",
    "        query (str): The search query string.\n",
    "        filters (dict): Keyword fields to filter by.\n",
    "        boost_fields (dict): Fields to apply boosting.\n",
    "        num_results (int): Number of results to return.\n",
    "\n",
    "    Returns:\n",
    "        list of dict: List of matched documents with scores.\n",
    "    \"\"\"\n",
    "    search_body = {\n",
    "        \"query\": {\n",
    "            \"bool\": {\n",
    "                \"must\": {\n",
    "                    \"multi_match\": {\n",
    "                        \"query\": query,\n",
    "                        \"fields\": [\"description\", \"activities\", \"topics\", \"weatherInfo\", \"fullName\", \"addresses\", \"url\"]\n",
    "                    }\n",
    "                },\n",
    "                \"filter\": [\n",
    "                    {\"term\": {key: value}} for key, value in (filters or {}).items()\n",
    "                ]\n",
    "            }\n",
    "        },\n",
    "        \"size\": num_results\n",
    "    }\n",
    "\n",
    "    # Add boosting if specified\n",
    "    if boost_fields:\n",
    "        must_queries = [\n",
    "            {\n",
    "                \"multi_match\": {\n",
    "                    \"query\": query,\n",
    "                    \"fields\": [\"description\", \"activities\", \"topics\", \"weatherInfo\", \"fullName\", \"addresses\", \"url\"]\n",
    "                }\n",
    "            }\n",
    "        ]\n",
    "        \n",
    "        for field, boost in boost_fields.items():\n",
    "            must_queries.append({\n",
    "                \"match\": {\n",
    "                    field: {\n",
    "                        \"query\": query,\n",
    "                        \"boost\": boost\n",
    "                    }\n",
    "                }\n",
    "            })\n",
    "\n",
    "        search_body['query']['bool']['must'] = must_queries\n",
    "\n",
    "    # Perform the search\n",
    "    try:\n",
    "        response = es.search(index=index_name, body=search_body)\n",
    "        return [{\"_source\": hit['_source'], \"_score\": hit['_score']} for hit in response['hits']['hits']]\n",
    "    except Exception as e:\n",
    "        print(f\"Error occurred while searching: {e}\")\n",
    "        return []\n",
    "\n",
    "# Example search query\n",
    "results = search_elasticsearch(query=\"smoky mountains\", boost_fields={\"description\": 2.0}, num_results=5)\n",
    "print(results)\n"
   ]
  },
  {
   "cell_type": "code",
   "execution_count": 13,
   "id": "2f5eec25-3f05-4300-9c4b-cff247e9c1c9",
   "metadata": {},
   "outputs": [
    {
     "name": "stdout",
     "output_type": "stream",
     "text": [
      "Total documents in index: 0\n"
     ]
    }
   ],
   "source": [
    "count_response = es.count(index=index_name)\n",
    "print(\"Total documents in index:\", count_response['count'])\n"
   ]
  },
  {
   "cell_type": "code",
   "execution_count": 13,
   "id": "791d5dc8-491c-44f2-989c-18ca046602a1",
   "metadata": {},
   "outputs": [
    {
     "name": "stdout",
     "output_type": "stream",
     "text": [
      "\u001b[31mERROR: pip's dependency resolver does not currently take into account all the packages that are installed. This behaviour is the source of the following dependency conflicts.\n",
      "datasets 2.20.0 requires fsspec[http]<=2024.5.0,>=2023.1.0, but you have fsspec 2024.9.0 which is incompatible.\u001b[0m\u001b[31m\n",
      "\u001b[0m\n",
      "\u001b[1m[\u001b[0m\u001b[34;49mnotice\u001b[0m\u001b[1;39;49m]\u001b[0m\u001b[39;49m A new release of pip is available: \u001b[0m\u001b[31;49m23.2.1\u001b[0m\u001b[39;49m -> \u001b[0m\u001b[32;49m24.2\u001b[0m\n",
      "\u001b[1m[\u001b[0m\u001b[34;49mnotice\u001b[0m\u001b[1;39;49m]\u001b[0m\u001b[39;49m To update, run: \u001b[0m\u001b[32;49mpip3 install --upgrade pip\u001b[0m\n",
      "Note: you may need to restart the kernel to use updated packages.\n"
     ]
    }
   ],
   "source": [
    "%pip install --upgrade --quiet huggingface_hub"
   ]
  },
  {
   "cell_type": "code",
   "execution_count": 22,
   "id": "6fa79464-b7a3-4fa9-8536-f8d8b309817f",
   "metadata": {},
   "outputs": [
    {
     "name": "stdin",
     "output_type": "stream",
     "text": [
      " ········\n"
     ]
    }
   ],
   "source": [
    "from getpass import getpass\n",
    "\n",
    "HUGGINGFACEHUB_API_TOKEN = getpass()"
   ]
  },
  {
   "cell_type": "code",
   "execution_count": 23,
   "id": "d6fa677a-375f-496c-aa86-87f97c3885a0",
   "metadata": {},
   "outputs": [
    {
     "name": "stdout",
     "output_type": "stream",
     "text": [
      "The token has not been saved to the git credentials helper. Pass `add_to_git_credential=True` in this function directly or `--add-to-git-credential` if using via `huggingface-cli` if you want to set the git credential as well.\n",
      "Token is valid (permission: write).\n",
      "Your token has been saved to /Users/manoharyelubandi/.cache/huggingface/token\n",
      "Login successful\n"
     ]
    }
   ],
   "source": [
    "from langchain_huggingface import HuggingFaceEndpoint\n",
    "\n",
    "llm_h = HuggingFaceEndpoint(\n",
    "    repo_id=\"meta-llama/Meta-Llama-3-8B-Instruct\",\n",
    "    task=\"text-generation\",\n",
    "    max_new_tokens=512,\n",
    "    do_sample=False,\n",
    "    repetition_penalty=1.03,\n",
    "    huggingfacehub_api_token=HUGGINGFACEHUB_API_TOKEN,\n",
    ")"
   ]
  },
  {
   "cell_type": "code",
   "execution_count": 81,
   "id": "4308366a-b6f5-4f5f-b611-7683931bc571",
   "metadata": {
    "scrolled": true
   },
   "outputs": [
    {
     "name": "stdout",
     "output_type": "stream",
     "text": [
      "The token has not been saved to the git credentials helper. Pass `add_to_git_credential=True` in this function directly or `--add-to-git-credential` if using via `huggingface-cli` if you want to set the git credential as well.\n",
      "Token is valid (permission: write).\n",
      "Your token has been saved to /Users/manoharyelubandi/.cache/huggingface/token\n",
      "Login successful\n",
      "\n",
      "\n",
      "ANSWER: At Acadia National Park, you can participate in various activities including biking, boating, camping, climbing, fishing, hiking, horse trekking, horseback riding, ice skating, paddling, wildlife watching, and birdwatching, among others. Additionally, you can attend cultural demonstrations, visit museums, exhibits, and shops, and explore the park's rich history and natural wonders. Please note that weather conditions can significantly impact your experience, so it's essential to check the park's website or contact the visitor center for the most up-to-date information.\n"
     ]
    }
   ],
   "source": [
    "from langchain_huggingface import HuggingFaceEndpoint\n",
    "from elasticsearch import Elasticsearch\n",
    "\n",
    "# Initialize Hugging Face client\n",
    "llm_h = HuggingFaceEndpoint(\n",
    "    repo_id=\"mistralai/Mistral-7B-Instruct-v0.2\",\n",
    "    task=\"text-generation\",\n",
    "    max_new_tokens=512,\n",
    "    do_sample=False,\n",
    "    repetition_penalty=1.03,\n",
    "    huggingfacehub_api_token=HUGGINGFACEHUB_API_TOKEN,\n",
    ")\n",
    "\n",
    "# Initialize Elasticsearch client\n",
    "es = Elasticsearch([{'host': 'localhost', 'port': 9200}])\n",
    "\n",
    "# Search function to query Elasticsearch\n",
    "def search_elasticsearch(query, filters=None, num_results=2):\n",
    "    search_body = {\n",
    "        \"query\": {\n",
    "            \"bool\": {\n",
    "                \"must\": {\n",
    "                    \"multi_match\": {\n",
    "                        \"query\": query,\n",
    "                        \"fields\": [\"description\", \"activities\", \"topics\", \"weatherInfo\", \"fullName\", \"states\", \"addresses\", \"url\"]\n",
    "                    }\n",
    "                },\n",
    "                \"filter\": [\n",
    "                    {\"term\": {key: value}} for key, value in (filters or {}).items()\n",
    "                ]\n",
    "            }\n",
    "        },\n",
    "        \"size\": num_results\n",
    "    }\n",
    "\n",
    "    response = es.search(index=\"parks\", **search_body)  # Updated to use parameter unpacking\n",
    "    return [hit['_source'] for hit in response['hits']['hits']]\n",
    "\n",
    "# Function to build the prompt for Hugging Face\n",
    "def build_prompt(query, search_results):\n",
    "    prompt_template = \"\"\"\n",
    "You're a park information assistant. Answer the QUESTION based on the CONTEXT from the parks database.\n",
    "Use only the facts from the CONTEXT when answering the QUESTION.\n",
    "\n",
    "QUESTION: {question}\n",
    "\n",
    "CONTEXT: \n",
    "{context}\n",
    "\"\"\".strip()\n",
    "\n",
    "    context = \"\"\n",
    "    \n",
    "    for doc in search_results:\n",
    "        context += f\"Full Name: {doc['fullName']}\\nDescription: {doc['description']}\\nActivities: {doc['activities']}\\nTopics: {doc['topics']}\\nWeather Info: {doc['weatherInfo']}\\nAddress: {doc['addresses']}\\n\\n\"\n",
    "    \n",
    "    prompt = prompt_template.format(question=query, context=context).strip()\n",
    "    return prompt\n",
    "\n",
    "# Function to call Hugging Face API\n",
    "def llm(prompt):\n",
    "    response = llm_h.invoke(prompt)  # Assuming this returns the generated text directly\n",
    "    return response  # Directly return the response\n",
    "\n",
    "# Main RAG function\n",
    "def rag(query):\n",
    "    # Perform search to get relevant documents\n",
    "    search_results = search_elasticsearch(query)\n",
    "    # Build prompt with search results\n",
    "    prompt = build_prompt(query, search_results)\n",
    "    # Get answer from Hugging Face model\n",
    "    answer = llm(prompt)\n",
    "    return answer\n",
    "\n",
    "# Example query\n",
    "query = 'What activities can I do at Acadia National Park?'\n",
    "answer = rag(query)\n",
    "print(answer)\n"
   ]
  },
  {
   "cell_type": "code",
   "execution_count": 96,
   "id": "2d686cca-ab0a-4d97-ad38-4d832908252d",
   "metadata": {},
   "outputs": [
    {
     "name": "stdout",
     "output_type": "stream",
     "text": [
      "\n",
      "\n",
      "Full Name: Big South Fork National River and Recreation Area\n",
      "Description: With its stunning gorges, rich history, and unparalleled opportunities for outdoor recreation, Big South Fork National River and Recreation Area offers visitors an experience unlike any other. Spanning parts of Tennessee and Kentucky, this unique park features rugged natural beauty, abundant wildlife, and a diverse cultural heritage.\n",
      "Activities: Arts and Culture Cultural Demonstrations Canoeing Camping Backcountry Camping Canoe or Kayak Camping Car or Front Country Camping Horse Camping (see also Horse/Stock Use) RV Camping Fishing Freshwater Fishing Food Picnicking Guided Tours Self-Guided Tours - Walking Hiking Backcountry Hiking Front-Country Hiking Horse Trekking Horse Camping (see also camping) Horseback Riding Paddling Canoeing Kayaking Stand Up Paddleboarding Whitewater Rafting Junior Ranger Program Birdwatching Park Film Shopping Bookstore and Park Store\n",
      "Topics: Agriculture and Farming Historic Structures Industrial Heritage Railroads and Trains Rivers and Streams Scenic Views Trails Waterfalls Wildlife Watching Birdwatching Parks and Monuments National Register of Historic Places Native American Heritage Logging and Timber Cutting Forests and Woodlands Geology and Landscapes Climate Change Mining Museums and Interpretive Centers Natural Bridges and Arches Bridges Nature and Natural History\n",
      "Weather Info: The weather in Big South Fork National River and Recreation Area is varied and can change rapidly. Summers are warm and humid, with temperatures typically ranging from the mid-70s to the upper 80s. Winters are mild, with temperatures usually ranging from the mid-30s to the mid-50s. Rain is common throughout the year, with heavier rainfall during the spring and fall. Thunderstorms are also frequent in the summer months.\n",
      "Address: 4001 Southside Drive, Oneida, TN, US\n",
      "\n",
      "Based on the context, there are two national parks in Kentucky: Mammoth Cave National Park and Big South Fork National River and Recreation Area.\n"
     ]
    }
   ],
   "source": [
    "query = 'how many national parks are there in Kentucky state ? give me only full names of them. '\n",
    "answer = rag(query)\n",
    "print(answer)"
   ]
  },
  {
   "cell_type": "code",
   "execution_count": 86,
   "id": "ff9923d0-7282-4c34-86f8-7832f2b4a7e0",
   "metadata": {},
   "outputs": [
    {
     "name": "stdout",
     "output_type": "stream",
     "text": [
      "\n",
      "\n",
      "Answer:\n",
      "The Channel Islands National Park is located in the state of California.\n"
     ]
    }
   ],
   "source": [
    "query = 'In which state channel islands is located ?'\n",
    "answer = rag(query)\n",
    "print(answer)"
   ]
  },
  {
   "cell_type": "code",
   "execution_count": 74,
   "id": "c6ed599d-97c3-4297-a219-bcb2e1d78ba6",
   "metadata": {},
   "outputs": [
    {
     "data": {
      "application/vnd.jupyter.widget-view+json": {
       "model_id": "08e5941821bb496bb7e36a414a0b7ece",
       "version_major": 2,
       "version_minor": 0
      },
      "text/plain": [
       "modules.json:   0%|          | 0.00/349 [00:00<?, ?B/s]"
      ]
     },
     "metadata": {},
     "output_type": "display_data"
    },
    {
     "data": {
      "application/vnd.jupyter.widget-view+json": {
       "model_id": "4bfb93c6a8034c8fa3f50febb6344cbb",
       "version_major": 2,
       "version_minor": 0
      },
      "text/plain": [
       "config_sentence_transformers.json:   0%|          | 0.00/116 [00:00<?, ?B/s]"
      ]
     },
     "metadata": {},
     "output_type": "display_data"
    },
    {
     "data": {
      "application/vnd.jupyter.widget-view+json": {
       "model_id": "f774bf5a724d4d5690edc80a2759d0f4",
       "version_major": 2,
       "version_minor": 0
      },
      "text/plain": [
       "README.md:   0%|          | 0.00/10.6k [00:00<?, ?B/s]"
      ]
     },
     "metadata": {},
     "output_type": "display_data"
    },
    {
     "data": {
      "application/vnd.jupyter.widget-view+json": {
       "model_id": "cb1c0e046f74496580617d29f6857a78",
       "version_major": 2,
       "version_minor": 0
      },
      "text/plain": [
       "sentence_bert_config.json:   0%|          | 0.00/53.0 [00:00<?, ?B/s]"
      ]
     },
     "metadata": {},
     "output_type": "display_data"
    },
    {
     "data": {
      "application/vnd.jupyter.widget-view+json": {
       "model_id": "7797896c1cd143c49b09a627eb49d755",
       "version_major": 2,
       "version_minor": 0
      },
      "text/plain": [
       "config.json:   0%|          | 0.00/571 [00:00<?, ?B/s]"
      ]
     },
     "metadata": {},
     "output_type": "display_data"
    },
    {
     "data": {
      "application/vnd.jupyter.widget-view+json": {
       "model_id": "b3080defa9974735bb69774f325289df",
       "version_major": 2,
       "version_minor": 0
      },
      "text/plain": [
       "model.safetensors:   0%|          | 0.00/438M [00:00<?, ?B/s]"
      ]
     },
     "metadata": {},
     "output_type": "display_data"
    },
    {
     "data": {
      "application/vnd.jupyter.widget-view+json": {
       "model_id": "e46057ef00e44f309945243154327140",
       "version_major": 2,
       "version_minor": 0
      },
      "text/plain": [
       "tokenizer_config.json:   0%|          | 0.00/363 [00:00<?, ?B/s]"
      ]
     },
     "metadata": {},
     "output_type": "display_data"
    },
    {
     "data": {
      "application/vnd.jupyter.widget-view+json": {
       "model_id": "b36bf77c7bb44312a5e27af56478da0a",
       "version_major": 2,
       "version_minor": 0
      },
      "text/plain": [
       "vocab.txt:   0%|          | 0.00/232k [00:00<?, ?B/s]"
      ]
     },
     "metadata": {},
     "output_type": "display_data"
    },
    {
     "data": {
      "application/vnd.jupyter.widget-view+json": {
       "model_id": "c093e5f2ffff4ad181ad2a2252ff4054",
       "version_major": 2,
       "version_minor": 0
      },
      "text/plain": [
       "tokenizer.json:   0%|          | 0.00/466k [00:00<?, ?B/s]"
      ]
     },
     "metadata": {},
     "output_type": "display_data"
    },
    {
     "data": {
      "application/vnd.jupyter.widget-view+json": {
       "model_id": "7c72f11cc7d844c58efa226e5ffe9c7a",
       "version_major": 2,
       "version_minor": 0
      },
      "text/plain": [
       "special_tokens_map.json:   0%|          | 0.00/239 [00:00<?, ?B/s]"
      ]
     },
     "metadata": {},
     "output_type": "display_data"
    },
    {
     "data": {
      "application/vnd.jupyter.widget-view+json": {
       "model_id": "c63c4e8730d64c4b8cde3850bd0d6d84",
       "version_major": 2,
       "version_minor": 0
      },
      "text/plain": [
       "1_Pooling/config.json:   0%|          | 0.00/190 [00:00<?, ?B/s]"
      ]
     },
     "metadata": {},
     "output_type": "display_data"
    }
   ],
   "source": [
    "from sentence_transformers import SentenceTransformer\n",
    "model = SentenceTransformer(\"all-mpnet-base-v2\")"
   ]
  },
  {
   "cell_type": "code",
   "execution_count": 75,
   "id": "97255dea-daa5-4aa4-86a3-04734bac4310",
   "metadata": {},
   "outputs": [
    {
     "data": {
      "text/plain": [
       "768"
      ]
     },
     "execution_count": 75,
     "metadata": {},
     "output_type": "execute_result"
    }
   ],
   "source": [
    "len(model.encode(\"This is a simple sentence\"))\n"
   ]
  },
  {
   "cell_type": "code",
   "execution_count": null,
   "id": "93c919fa-84f8-4b99-bc74-fd4e7f63a47e",
   "metadata": {},
   "outputs": [],
   "source": []
  }
 ],
 "metadata": {
  "kernelspec": {
   "display_name": "Python 3 (ipykernel)",
   "language": "python",
   "name": "python3"
  },
  "language_info": {
   "codemirror_mode": {
    "name": "ipython",
    "version": 3
   },
   "file_extension": ".py",
   "mimetype": "text/x-python",
   "name": "python",
   "nbconvert_exporter": "python",
   "pygments_lexer": "ipython3",
   "version": "3.11.6"
  }
 },
 "nbformat": 4,
 "nbformat_minor": 5
}
